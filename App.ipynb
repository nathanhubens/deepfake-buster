{
 "cells": [
  {
   "cell_type": "code",
   "execution_count": 1,
   "metadata": {},
   "outputs": [],
   "source": [
    "from fastai.vision import *\n",
    "from fastai import *\n",
    "from ipywidgets import *\n",
    "from gradcam import *\n",
    "import torchvision.transforms.functional as F\n",
    "from matplotlib import cm\n",
    "%matplotlib inline"
   ]
  },
  {
   "cell_type": "markdown",
   "metadata": {},
   "source": [
    "# DeepFake-Buster !\n",
    "\n",
    "Show me a picture of a face that you think might be fake and I'll tell you what I think of it !"
   ]
  },
  {
   "cell_type": "code",
   "execution_count": 2,
   "metadata": {},
   "outputs": [],
   "source": [
    "path = Path()"
   ]
  },
  {
   "cell_type": "code",
   "execution_count": 3,
   "metadata": {},
   "outputs": [],
   "source": [
    "learn_inf = load_learner(path,'app.pkl')"
   ]
  },
  {
   "cell_type": "code",
   "execution_count": 4,
   "metadata": {},
   "outputs": [],
   "source": [
    "btn_upload = widgets.FileUpload()\n",
    "btn_run = widgets.Button(description='Show Grad-CAM')\n",
    "out_pl = widgets.Output()\n",
    "out_grad = widgets.Output()\n",
    "lbl_pred = widgets.Label()"
   ]
  },
  {
   "cell_type": "code",
   "execution_count": 5,
   "metadata": {},
   "outputs": [],
   "source": [
    "def on_click(change):\n",
    "    img = open_image(io.BytesIO(btn_upload.data[-1]))\n",
    "    out_pl.clear_output(wait=True)\n",
    "    with out_pl: display(img.resize((3,256,256)))\n",
    "    pred,pred_idx,probs = learn_inf.predict(img)\n",
    "    lbl_pred.value = f'I\\'m {100*probs[pred_idx]:.02f}% sure that this image is {pred} !'"
   ]
  },
  {
   "cell_type": "code",
   "execution_count": 6,
   "metadata": {},
   "outputs": [],
   "source": [
    "def on_click_grad_cam(change):\n",
    "    img = open_image(io.BytesIO(btn_upload.data[-1]))\n",
    "    target_layer = learn_inf.model._bn1\n",
    "    gcam = GradCam.from_one_img(learn_inf,target_layer, img)\n",
    "    out_pl.clear_output()\n",
    "    blended = get_hm(img, gcam.hmap1)\n",
    "    with out_pl: display(blended.resize((256,256)))\n",
    "        \n",
    "btn_run.on_click(on_click_grad_cam)"
   ]
  },
  {
   "cell_type": "code",
   "execution_count": 7,
   "metadata": {},
   "outputs": [],
   "source": [
    "def get_hm(img, hm):\n",
    "    bg = F.to_pil_image(img.data)\n",
    "\n",
    "    hm = (hm-hm.min())/(hm.max()-hm.min())\n",
    "\n",
    "    fg = PIL.Image.fromarray(np.uint8(cm.magma(hm)*255))\n",
    "\n",
    "    fg = fg.resize(bg.size, PIL.Image.BILINEAR)\n",
    "\n",
    "    bg = bg.convert('RGBA')\n",
    "\n",
    "    blended = PIL.Image.blend(bg, fg, alpha=0.5)\n",
    "    return blended\n",
    "    "
   ]
  },
  {
   "cell_type": "code",
   "execution_count": 8,
   "metadata": {},
   "outputs": [],
   "source": [
    "btn_upload.observe(on_click, names=['data'])"
   ]
  },
  {
   "cell_type": "code",
   "execution_count": 9,
   "metadata": {},
   "outputs": [
    {
     "data": {
      "application/vnd.jupyter.widget-view+json": {
       "model_id": "0116b66fc49d4ec2a7a7f654c5adf39e",
       "version_major": 2,
       "version_minor": 0
      },
      "text/plain": [
       "VBox(children=(Label(value='Select your image!'), FileUpload(value={}, description='Upload'), Button(descripti…"
      ]
     },
     "metadata": {},
     "output_type": "display_data"
    }
   ],
   "source": [
    "display(VBox([widgets.Label('Select your image!'), btn_upload, btn_run,lbl_pred, out_pl]))"
   ]
  },
  {
   "cell_type": "code",
   "execution_count": null,
   "metadata": {},
   "outputs": [],
   "source": []
  }
 ],
 "metadata": {
  "kernelspec": {
   "display_name": "Python 3",
   "language": "python",
   "name": "python3"
  },
  "language_info": {
   "codemirror_mode": {
    "name": "ipython",
    "version": 3
   },
   "file_extension": ".py",
   "mimetype": "text/x-python",
   "name": "python",
   "nbconvert_exporter": "python",
   "pygments_lexer": "ipython3",
   "version": "3.7.7"
  }
 },
 "nbformat": 4,
 "nbformat_minor": 4
}
